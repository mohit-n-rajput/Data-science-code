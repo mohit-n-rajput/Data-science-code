{
 "cells": [
  {
   "cell_type": "markdown",
   "metadata": {
    "colab_type": "text",
    "id": "RKOTCuKlJVZ8"
   },
   "source": [
    "# Python Errors and Built-in-Exceptions"
   ]
  },
  {
   "cell_type": "markdown",
   "metadata": {
    "colab_type": "text",
    "id": "6s108dVnJVaB"
   },
   "source": [
    "When writing a program, we, more often than not, will encounter errors.\n",
    "\n",
    "Error caused by not following the proper structure (syntax) of the language is called syntax error or parsing error."
   ]
  },
  {
   "cell_type": "code",
   "execution_count": 1,
   "metadata": {
    "colab": {},
    "colab_type": "code",
    "id": "fRf-WzLjJVaF",
    "outputId": "5a09f263-4437-4f7f-9ba5-eeaeb5e006c2"
   },
   "outputs": [
    {
     "ename": "SyntaxError",
     "evalue": "invalid syntax (<ipython-input-1-3e28e520013d>, line 1)",
     "output_type": "error",
     "traceback": [
      "\u001b[1;36m  File \u001b[1;32m\"<ipython-input-1-3e28e520013d>\"\u001b[1;36m, line \u001b[1;32m1\u001b[0m\n\u001b[1;33m    if a < 3\u001b[0m\n\u001b[1;37m            ^\u001b[0m\n\u001b[1;31mSyntaxError\u001b[0m\u001b[1;31m:\u001b[0m invalid syntax\n"
     ]
    }
   ],
   "source": [
    "if a < 3"
   ]
  },
  {
   "cell_type": "markdown",
   "metadata": {
    "colab_type": "text",
    "id": "xsuCeIpEJVaT"
   },
   "source": [
    "### Errors can also occur at runtime and these are called exceptions. \n",
    "\n",
    "They occur, for example, when a file we try to open does not exist (FileNotFoundError), dividing a number by zero (ZeroDivisionError), module we try to import is not found (ImportError) etc."
   ]
  },
  {
   "cell_type": "markdown",
   "metadata": {
    "colab_type": "text",
    "id": "W5dOI-SbJVaV"
   },
   "source": [
    "<b>Whenever these type of runtime error occur, Python creates an exception object.</b>If not handled properly, it prints a traceback to that error along with some details about why that error occurred."
   ]
  },
  {
   "cell_type": "code",
   "execution_count": 2,
   "metadata": {
    "colab": {},
    "colab_type": "code",
    "id": "2OofqS54JVaY",
    "outputId": "99857d27-a308-4152-ed24-f145748fb2cc"
   },
   "outputs": [
    {
     "ename": "ZeroDivisionError",
     "evalue": "division by zero",
     "output_type": "error",
     "traceback": [
      "\u001b[1;31m---------------------------------------------------------------------------\u001b[0m",
      "\u001b[1;31mZeroDivisionError\u001b[0m                         Traceback (most recent call last)",
      "\u001b[1;32m<ipython-input-2-bc757c3fda29>\u001b[0m in \u001b[0;36m<module>\u001b[1;34m\u001b[0m\n\u001b[1;32m----> 1\u001b[1;33m \u001b[1;36m1\u001b[0m \u001b[1;33m/\u001b[0m \u001b[1;36m0\u001b[0m\u001b[1;33m\u001b[0m\u001b[1;33m\u001b[0m\u001b[0m\n\u001b[0m",
      "\u001b[1;31mZeroDivisionError\u001b[0m: division by zero"
     ]
    }
   ],
   "source": [
    "1 / 0"
   ]
  },
  {
   "cell_type": "code",
   "execution_count": 4,
   "metadata": {
    "colab": {},
    "colab_type": "code",
    "id": "oopH8CqAJVah",
    "outputId": "65a06ba0-579d-4f16-c9cd-fb18a205a6b4"
   },
   "outputs": [
    {
     "ename": "FileNotFoundError",
     "evalue": "[Errno 2] No such file or directory: 'file.txt'",
     "output_type": "error",
     "traceback": [
      "\u001b[1;31m---------------------------------------------------------------------------\u001b[0m",
      "\u001b[1;31mFileNotFoundError\u001b[0m                         Traceback (most recent call last)",
      "\u001b[1;32m<ipython-input-4-8df989e29043>\u001b[0m in \u001b[0;36m<module>\u001b[1;34m\u001b[0m\n\u001b[1;32m----> 1\u001b[1;33m \u001b[0mopen\u001b[0m\u001b[1;33m(\u001b[0m\u001b[1;34m'file.txt'\u001b[0m\u001b[1;33m)\u001b[0m\u001b[1;33m\u001b[0m\u001b[1;33m\u001b[0m\u001b[0m\n\u001b[0m",
      "\u001b[1;31mFileNotFoundError\u001b[0m: [Errno 2] No such file or directory: 'file.txt'"
     ]
    }
   ],
   "source": [
    "open('file.txt')"
   ]
  },
  {
   "cell_type": "markdown",
   "metadata": {
    "colab_type": "text",
    "id": "zPvLQlNvJVan"
   },
   "source": [
    "# Python Built-in Exceptions"
   ]
  },
  {
   "cell_type": "markdown",
   "metadata": {},
   "source": [
    "#### we can see inbuilt exceptions by __builtins__ attributes."
   ]
  },
  {
   "cell_type": "code",
   "execution_count": 6,
   "metadata": {
    "colab": {},
    "colab_type": "code",
    "id": "g-KuGghuJVao",
    "outputId": "9c5203c5-5648-4fe4-ec03-6042a3d2789b"
   },
   "outputs": [
    {
     "data": {
      "text/plain": [
       "['ArithmeticError',\n",
       " 'AssertionError',\n",
       " 'AttributeError',\n",
       " 'BaseException',\n",
       " 'BlockingIOError',\n",
       " 'BrokenPipeError',\n",
       " 'BufferError',\n",
       " 'BytesWarning',\n",
       " 'ChildProcessError',\n",
       " 'ConnectionAbortedError',\n",
       " 'ConnectionError',\n",
       " 'ConnectionRefusedError',\n",
       " 'ConnectionResetError',\n",
       " 'DeprecationWarning',\n",
       " 'EOFError',\n",
       " 'Ellipsis',\n",
       " 'EnvironmentError',\n",
       " 'Exception',\n",
       " 'False',\n",
       " 'FileExistsError',\n",
       " 'FileNotFoundError',\n",
       " 'FloatingPointError',\n",
       " 'FutureWarning',\n",
       " 'GeneratorExit',\n",
       " 'IOError',\n",
       " 'ImportError',\n",
       " 'ImportWarning',\n",
       " 'IndentationError',\n",
       " 'IndexError',\n",
       " 'InterruptedError',\n",
       " 'IsADirectoryError',\n",
       " 'KeyError',\n",
       " 'KeyboardInterrupt',\n",
       " 'LookupError',\n",
       " 'MemoryError',\n",
       " 'ModuleNotFoundError',\n",
       " 'NameError',\n",
       " 'None',\n",
       " 'NotADirectoryError',\n",
       " 'NotImplemented',\n",
       " 'NotImplementedError',\n",
       " 'OSError',\n",
       " 'OverflowError',\n",
       " 'PendingDeprecationWarning',\n",
       " 'PermissionError',\n",
       " 'ProcessLookupError',\n",
       " 'RecursionError',\n",
       " 'ReferenceError',\n",
       " 'ResourceWarning',\n",
       " 'RuntimeError',\n",
       " 'RuntimeWarning',\n",
       " 'StopAsyncIteration',\n",
       " 'StopIteration',\n",
       " 'SyntaxError',\n",
       " 'SyntaxWarning',\n",
       " 'SystemError',\n",
       " 'SystemExit',\n",
       " 'TabError',\n",
       " 'TimeoutError',\n",
       " 'True',\n",
       " 'TypeError',\n",
       " 'UnboundLocalError',\n",
       " 'UnicodeDecodeError',\n",
       " 'UnicodeEncodeError',\n",
       " 'UnicodeError',\n",
       " 'UnicodeTranslateError',\n",
       " 'UnicodeWarning',\n",
       " 'UserWarning',\n",
       " 'ValueError',\n",
       " 'Warning',\n",
       " 'WindowsError',\n",
       " 'ZeroDivisionError',\n",
       " '__IPYTHON__',\n",
       " '__build_class__',\n",
       " '__debug__',\n",
       " '__doc__',\n",
       " '__import__',\n",
       " '__loader__',\n",
       " '__name__',\n",
       " '__package__',\n",
       " '__spec__',\n",
       " 'abs',\n",
       " 'all',\n",
       " 'any',\n",
       " 'ascii',\n",
       " 'bin',\n",
       " 'bool',\n",
       " 'breakpoint',\n",
       " 'bytearray',\n",
       " 'bytes',\n",
       " 'callable',\n",
       " 'chr',\n",
       " 'classmethod',\n",
       " 'compile',\n",
       " 'complex',\n",
       " 'copyright',\n",
       " 'credits',\n",
       " 'delattr',\n",
       " 'dict',\n",
       " 'dir',\n",
       " 'display',\n",
       " 'divmod',\n",
       " 'enumerate',\n",
       " 'eval',\n",
       " 'exec',\n",
       " 'filter',\n",
       " 'float',\n",
       " 'format',\n",
       " 'frozenset',\n",
       " 'get_ipython',\n",
       " 'getattr',\n",
       " 'globals',\n",
       " 'hasattr',\n",
       " 'hash',\n",
       " 'help',\n",
       " 'hex',\n",
       " 'id',\n",
       " 'input',\n",
       " 'int',\n",
       " 'isinstance',\n",
       " 'issubclass',\n",
       " 'iter',\n",
       " 'len',\n",
       " 'license',\n",
       " 'list',\n",
       " 'locals',\n",
       " 'map',\n",
       " 'max',\n",
       " 'memoryview',\n",
       " 'min',\n",
       " 'next',\n",
       " 'object',\n",
       " 'oct',\n",
       " 'open',\n",
       " 'ord',\n",
       " 'pow',\n",
       " 'print',\n",
       " 'property',\n",
       " 'range',\n",
       " 'repr',\n",
       " 'reversed',\n",
       " 'round',\n",
       " 'set',\n",
       " 'setattr',\n",
       " 'slice',\n",
       " 'sorted',\n",
       " 'staticmethod',\n",
       " 'str',\n",
       " 'sum',\n",
       " 'super',\n",
       " 'tuple',\n",
       " 'type',\n",
       " 'vars',\n",
       " 'zip']"
      ]
     },
     "execution_count": 6,
     "metadata": {},
     "output_type": "execute_result"
    }
   ],
   "source": [
    "dir(__builtins__)"
   ]
  },
  {
   "cell_type": "code",
   "execution_count": 12,
   "metadata": {},
   "outputs": [
    {
     "name": "stdout",
     "output_type": "stream",
     "text": [
      "Total numbers of inbuilt exceptions are:  154\n"
     ]
    }
   ],
   "source": [
    "print(\"Total numbers of inbuilt exceptions are: \", str(len(dir(__builtin__))))"
   ]
  },
  {
   "cell_type": "markdown",
   "metadata": {
    "colab_type": "text",
    "id": "Oz1CmO7QJVat"
   },
   "source": [
    "# Python Exception Handling - Try, Except and Finally"
   ]
  },
  {
   "cell_type": "markdown",
   "metadata": {
    "colab_type": "text",
    "id": "zuin4AchJVau"
   },
   "source": [
    "Python has many built-in exceptions which forces your program to output an error when something in it goes wrong.\n",
    "\n",
    "When these exceptions occur, it causes the current process to stop and passes it to the calling process until it is handled. If not handled, our program will crash.\n",
    "\n",
    "For example, if function A calls function B which in turn calls function C and an exception occurs in function C. If it is not handled in C, the exception passes to B and then to A.\n",
    "\n",
    "If never handled, an error message is spit out and our program come to a sudden, unexpected halt."
   ]
  },
  {
   "cell_type": "markdown",
   "metadata": {
    "colab_type": "text",
    "id": "DP3IEeUzJVax"
   },
   "source": [
    "# Catching Exceptions in Python"
   ]
  },
  {
   "cell_type": "markdown",
   "metadata": {
    "colab_type": "text",
    "id": "0OoY_4ByJVay"
   },
   "source": [
    "##### In Python, exceptions can be handled using a try statement.\n",
    "\n",
    "##### A critical operation which can raise exception is placed inside the try clause and the code that handles exception is written in except clause."
   ]
  },
  {
   "cell_type": "markdown",
   "metadata": {},
   "source": [
    "#### If error not happened in try block then except block not run."
   ]
  },
  {
   "cell_type": "code",
   "execution_count": 20,
   "metadata": {
    "colab": {},
    "colab_type": "code",
    "id": "Omhg6UxPJVa0",
    "outputId": "879f9091-3475-44eb-e5e5-7fda98baf521"
   },
   "outputs": [
    {
     "name": "stdout",
     "output_type": "stream",
     "text": [
      "The entry is b\n",
      "Oops! <class 'ValueError'> occured.\n",
      "Next entry.\n",
      "***************************\n",
      "The entry is 0\n",
      "Oops! <class 'ZeroDivisionError'> occured.\n",
      "Next entry.\n",
      "***************************\n",
      "The entry is 2\n",
      "The reciprocal of 2 is 0.5\n"
     ]
    }
   ],
   "source": [
    "# import module sys to get the type of exception\n",
    "import sys\n",
    "\n",
    "# sys module is useful to get the exception type by using sys.exec_info()\n",
    "\n",
    "lst = ['b', 0, 2]\n",
    "\n",
    "for entry in lst:\n",
    "    try:\n",
    "        print(\"The entry is\", entry)\n",
    "        r = 1 / int(entry)\n",
    "    except:\n",
    "        print(\"Oops!\", sys.exc_info()[0],\"occured.\")\n",
    "        print(\"Next entry.\")\n",
    "        print(\"***************************\")\n",
    "print(\"The reciprocal of\", entry, \"is\", r)"
   ]
  },
  {
   "cell_type": "code",
   "execution_count": 21,
   "metadata": {
    "scrolled": true
   },
   "outputs": [
    {
     "name": "stdout",
     "output_type": "stream",
     "text": [
      "entry is  b\n",
      "(<class 'ValueError'>, ValueError(\"invalid literal for int() with base 10: 'b'\"), <traceback object at 0x0000013D37656D08>) occured\n",
      "next entry.\n",
      "*************\n",
      "entry is  0\n",
      "(<class 'ZeroDivisionError'>, ZeroDivisionError('division by zero'), <traceback object at 0x0000013D37656E48>) occured\n",
      "next entry.\n",
      "*************\n",
      "entry is  2\n",
      "the reciprocal of entry is:  0.5\n"
     ]
    }
   ],
   "source": [
    "import sys\n",
    "\n",
    "lst1 = ['b',0 ,2]\n",
    "\n",
    "for i in lst1:\n",
    "    try:\n",
    "        print(\"entry is \", i)\n",
    "        r = 1/int(i)\n",
    "    except:\n",
    "        print(sys.exc_info() ,\"occured\")\n",
    "        print(\"next entry.\")\n",
    "        print(\"*\"*13)\n",
    "\n",
    "print(\"the reciprocal of entry is: \", r)"
   ]
  },
  {
   "cell_type": "markdown",
   "metadata": {},
   "source": [
    "sys.exc_info () returns:\n",
    "\n",
    "(<class 'ValueError'>, ValueError(\"invalid literal for int() with base 10: 'b'\"), <traceback object at 0x0000013D376F0F08>) occured"
   ]
  },
  {
   "cell_type": "markdown",
   "metadata": {
    "colab_type": "text",
    "id": "AQf5aGKGJVa5"
   },
   "source": [
    "# Catching Specific Exceptions in Python"
   ]
  },
  {
   "cell_type": "markdown",
   "metadata": {
    "colab_type": "text",
    "id": "1MyRM0IsJVa6"
   },
   "source": [
    "In the above example, we did not mention any exception in the except clause.\n",
    "\n",
    "This is not a good programming practice as it will catch all exceptions and handle every case in the same way. We can specify which exceptions an except clause will catch.\n",
    "\n",
    "A try clause can have any number of except clause to handle them differently but only one will be executed in case an exception occurs."
   ]
  },
  {
   "cell_type": "markdown",
   "metadata": {},
   "source": [
    "except is like cache  statements"
   ]
  },
  {
   "cell_type": "code",
   "execution_count": 24,
   "metadata": {
    "colab": {},
    "colab_type": "code",
    "id": "bmRYnxI0JVa7",
    "outputId": "3f3cb241-fbf1-4156-ab01-fcfbbea944c3"
   },
   "outputs": [
    {
     "name": "stdout",
     "output_type": "stream",
     "text": [
      "****************************\n",
      "The entry is b\n",
      "This is a ValueError.\n",
      "****************************\n",
      "The entry is 0\n",
      "This is a ZeroError.\n",
      "****************************\n",
      "The entry is 2\n",
      "The reciprocal of 2 is 0.5\n"
     ]
    }
   ],
   "source": [
    "import sys\n",
    "\n",
    "lst = ['b', 0, 2]\n",
    "\n",
    "for entry in lst:\n",
    "    try:\n",
    "        print(\"****************************\")\n",
    "        print(\"The entry is\", entry)\n",
    "        r = 1 / int(entry)\n",
    "    except(ValueError):\n",
    "        print(\"This is a ValueError.\")\n",
    "    except(ZeroDivisionError):\n",
    "        print(\"This is a ZeroError.\")\n",
    "    except:\n",
    "        print(\"Some other error\")\n",
    "\n",
    "\n",
    "print(\"The reciprocal of\", entry, \"is\", r)"
   ]
  },
  {
   "cell_type": "markdown",
   "metadata": {
    "colab_type": "text",
    "id": "H2wD1Y1jJVa_"
   },
   "source": [
    "# Raising Exceptions"
   ]
  },
  {
   "cell_type": "markdown",
   "metadata": {
    "colab_type": "text",
    "id": "ZKgobp0RJVbA"
   },
   "source": [
    "In Python programming, exceptions are raised when corresponding errors occur at run time, but we can forcefully <b>raise it using the keyword raise.<b>\n",
    "\n",
    "We can also optionally pass in value to the exception to clarify why that exception was raised."
   ]
  },
  {
   "cell_type": "markdown",
   "metadata": {},
   "source": [
    "##### raise errortype(your message)"
   ]
  },
  {
   "cell_type": "code",
   "execution_count": 27,
   "metadata": {
    "colab": {},
    "colab_type": "code",
    "id": "XHquZUEpJVbB",
    "outputId": "4e950ee7-61fe-4703-99e5-96df11a94fc6",
    "scrolled": true
   },
   "outputs": [
    {
     "ename": "KeyboardInterrupt",
     "evalue": "",
     "output_type": "error",
     "traceback": [
      "\u001b[1;31m---------------------------------------------------------------------------\u001b[0m",
      "\u001b[1;31mKeyboardInterrupt\u001b[0m                         Traceback (most recent call last)",
      "\u001b[1;32m<ipython-input-27-c761920b81b0>\u001b[0m in \u001b[0;36m<module>\u001b[1;34m\u001b[0m\n\u001b[1;32m----> 1\u001b[1;33m \u001b[1;32mraise\u001b[0m \u001b[0mKeyboardInterrupt\u001b[0m\u001b[1;33m\u001b[0m\u001b[1;33m\u001b[0m\u001b[0m\n\u001b[0m",
      "\u001b[1;31mKeyboardInterrupt\u001b[0m: "
     ]
    }
   ],
   "source": [
    "raise KeyboardInterrupt"
   ]
  },
  {
   "cell_type": "code",
   "execution_count": 28,
   "metadata": {
    "colab": {},
    "colab_type": "code",
    "id": "3jTxg_RPJVbF",
    "outputId": "2555bc78-679a-4b8c-a95d-91b19a2524d9"
   },
   "outputs": [
    {
     "ename": "MemoryError",
     "evalue": "This is memory Error",
     "output_type": "error",
     "traceback": [
      "\u001b[1;31m---------------------------------------------------------------------------\u001b[0m",
      "\u001b[1;31mMemoryError\u001b[0m                               Traceback (most recent call last)",
      "\u001b[1;32m<ipython-input-28-e9258177a914>\u001b[0m in \u001b[0;36m<module>\u001b[1;34m\u001b[0m\n\u001b[1;32m----> 1\u001b[1;33m \u001b[1;32mraise\u001b[0m \u001b[0mMemoryError\u001b[0m\u001b[1;33m(\u001b[0m\u001b[1;34m\"This is memory Error\"\u001b[0m\u001b[1;33m)\u001b[0m\u001b[1;33m\u001b[0m\u001b[1;33m\u001b[0m\u001b[0m\n\u001b[0m",
      "\u001b[1;31mMemoryError\u001b[0m: This is memory Error"
     ]
    }
   ],
   "source": [
    "raise MemoryError(\"This is memory Error\")"
   ]
  },
  {
   "cell_type": "code",
   "execution_count": 31,
   "metadata": {
    "colab": {},
    "colab_type": "code",
    "id": "XD_gufcbJVbJ",
    "outputId": "ea0418bb-f31c-4a59-af2e-9033ce304b3d"
   },
   "outputs": [
    {
     "name": "stdout",
     "output_type": "stream",
     "text": [
      "Enter a positive integer:5/6\n",
      "invalid literal for int() with base 10: '5/6'\n"
     ]
    }
   ],
   "source": [
    "try:\n",
    "    num = int(input(\"Enter a positive integer:\"))\n",
    "    if num <= 0:\n",
    "        raise ValueError(\"Error:Entered negative number\")\n",
    "    print(\"number is: \",num)\n",
    "except ValueError as e:\n",
    "    print(e)"
   ]
  },
  {
   "cell_type": "code",
   "execution_count": 32,
   "metadata": {},
   "outputs": [
    {
     "name": "stdout",
     "output_type": "stream",
     "text": [
      "Enter a positive integer:1\n",
      "number is:  1\n"
     ]
    }
   ],
   "source": [
    "try:\n",
    "    num = int(input(\"Enter a positive integer:\"))\n",
    "    if num <= 0:\n",
    "        raise ValueError(\"Error:Entered negative number\")\n",
    "    print(\"number is: \",num)\n",
    "except ValueError as e:\n",
    "    print(e)\n",
    "    "
   ]
  },
  {
   "cell_type": "code",
   "execution_count": 33,
   "metadata": {},
   "outputs": [
    {
     "name": "stdout",
     "output_type": "stream",
     "text": [
      "Enter a positive integer:-1\n",
      "Error:Entered negative number\n"
     ]
    }
   ],
   "source": [
    "try:\n",
    "    num = int(input(\"Enter a positive integer:\"))\n",
    "    if num <= 0:\n",
    "        raise ValueError(\"Error:Entered negative number\")\n",
    "    print(\"number is: \",num)\n",
    "except ValueError as e:\n",
    "    print(e)"
   ]
  },
  {
   "cell_type": "markdown",
   "metadata": {
    "colab_type": "text",
    "id": "okNSiFRYJVbN"
   },
   "source": [
    "# try ... finally"
   ]
  },
  {
   "cell_type": "markdown",
   "metadata": {},
   "source": [
    "#### finally block run always after try and except block. Finally block always run at end.\n",
    "\n",
    "Useful to clear resources."
   ]
  },
  {
   "cell_type": "markdown",
   "metadata": {
    "colab_type": "text",
    "id": "9xOuS1PgJVbN"
   },
   "source": [
    "### The try statement in Python can have an optional finally clause. This clause is executed no matter what, and is generally used to release external resources."
   ]
  },
  {
   "cell_type": "code",
   "execution_count": 35,
   "metadata": {
    "colab": {},
    "colab_type": "code",
    "id": "x-V7WTWgJVbO"
   },
   "outputs": [],
   "source": [
    "try:\n",
    "    f = open('sample.txt')\n",
    "    #perform file operations\n",
    "    \n",
    "finally:\n",
    "    f.close()"
   ]
  },
  {
   "cell_type": "code",
   "execution_count": null,
   "metadata": {},
   "outputs": [],
   "source": []
  }
 ],
 "metadata": {
  "colab": {
   "name": "errors_built_in_exceptions.ipynb",
   "provenance": [],
   "version": "0.3.2"
  },
  "kernelspec": {
   "display_name": "Python 3",
   "language": "python",
   "name": "python3"
  },
  "language_info": {
   "codemirror_mode": {
    "name": "ipython",
    "version": 3
   },
   "file_extension": ".py",
   "mimetype": "text/x-python",
   "name": "python",
   "nbconvert_exporter": "python",
   "pygments_lexer": "ipython3",
   "version": "3.7.4"
  }
 },
 "nbformat": 4,
 "nbformat_minor": 1
}
